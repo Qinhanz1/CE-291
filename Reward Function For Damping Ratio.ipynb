{
 "cells": [
  {
   "cell_type": "code",
   "execution_count": 2,
   "id": "96f44098",
   "metadata": {},
   "outputs": [
    {
     "name": "stdout",
     "output_type": "stream",
     "text": [
      "Economic Reward: -95.0\n",
      "Environmental Reward: 3880.0\n",
      "Social Reward: 260.0\n",
      "Risk Management Reward: 170.0\n"
     ]
    }
   ],
   "source": [
    "import numpy as np\n",
    "\n",
    "# Economic Reward Function\n",
    "def economic_reward(damping_ratio, repair_cost_savings, lifecycle_costs):\n",
    "    # Parameters for economic factors (example values)\n",
    "    damping_cost_weight = 100\n",
    "    savings_weight = 50\n",
    "    lifecycle_cost_weight = 150\n",
    "    \n",
    "    # Calculate the cost of increased damping\n",
    "    damping_cost = damping_cost_weight * damping_ratio\n",
    "    \n",
    "    # Calculate savings from reduced post-earthquake repairs\n",
    "    savings = savings_weight * repair_cost_savings\n",
    "    \n",
    "    # Calculate the full lifecycle costs\n",
    "    total_lifecycle_cost = lifecycle_cost_weight * lifecycle_costs\n",
    "    \n",
    "    # Economic reward combines these factors\n",
    "    return savings - damping_cost - total_lifecycle_cost\n",
    "\n",
    "# Environmental Reward Function\n",
    "def environmental_reward(damping_ratio, carbon_footprint):\n",
    "    # Parameters for environmental factors (example values)\n",
    "    energy_efficiency_weight = 200\n",
    "    carbon_footprint_weight = 300\n",
    "    \n",
    "    # Calculate the energy efficiency based on damping ratio\n",
    "    energy_efficiency = energy_efficiency_weight * (1 / damping_ratio)\n",
    "    \n",
    "    # Calculate the environmental cost from carbon footprint\n",
    "    environmental_cost = carbon_footprint_weight * carbon_footprint\n",
    "    \n",
    "    # Environmental reward considers both factors\n",
    "    return energy_efficiency - environmental_cost\n",
    "\n",
    "# Social Reward Function\n",
    "def social_reward(occupant_comfort, evacuation_efficiency):\n",
    "    # Parameters for social factors (example values)\n",
    "    comfort_weight = 100\n",
    "    evacuation_weight = 200\n",
    "    \n",
    "    # Social reward is a combination of occupant comfort and evacuation efficiency\n",
    "    return comfort_weight * occupant_comfort + evacuation_weight * evacuation_efficiency\n",
    "\n",
    "# Risk Management Reward Function\n",
    "def risk_management_reward(probabilistic_risk, redundancy_factor):\n",
    "    # Parameters for risk factors (example values)\n",
    "    risk_weight = 400\n",
    "    redundancy_weight = 500\n",
    "    \n",
    "    # Calculate risk penalty\n",
    "    risk_penalty = risk_weight * probabilistic_risk\n",
    "    \n",
    "    # Calculate redundancy bonus\n",
    "    redundancy_bonus = redundancy_weight * redundancy_factor\n",
    "    \n",
    "    # Risk management reward combines the penalty and bonus\n",
    "    return redundancy_bonus - risk_penalty\n",
    "\n",
    "# Example usage of reward functions with hypothetical data\n",
    "economic_r = economic_reward(damping_ratio=0.05, repair_cost_savings=0.3, lifecycle_costs=0.7)\n",
    "environmental_r = environmental_reward(damping_ratio=0.05, carbon_footprint=0.4)\n",
    "social_r = social_reward(occupant_comfort=0.8, evacuation_efficiency=0.9)\n",
    "risk_management_r = risk_management_reward(probabilistic_risk=0.2, redundancy_factor=0.5)\n",
    "\n",
    "print(f'Economic Reward: {economic_r}')\n",
    "print(f'Environmental Reward: {environmental_r}')\n",
    "print(f'Social Reward: {social_r}')\n",
    "print(f'Risk Management Reward: {risk_management_r}')\n"
   ]
  }
 ],
 "metadata": {
  "kernelspec": {
   "display_name": "Python 3 (ipykernel)",
   "language": "python",
   "name": "python3"
  },
  "language_info": {
   "codemirror_mode": {
    "name": "ipython",
    "version": 3
   },
   "file_extension": ".py",
   "mimetype": "text/x-python",
   "name": "python",
   "nbconvert_exporter": "python",
   "pygments_lexer": "ipython3",
   "version": "3.11.5"
  }
 },
 "nbformat": 4,
 "nbformat_minor": 5
}
